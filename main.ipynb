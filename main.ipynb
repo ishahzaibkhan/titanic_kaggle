{
 "cells": [
  {
   "metadata": {},
   "cell_type": "code",
   "source": [
    "# Libraries\n",
    "import matplotlib.pyplot as plt\n",
    "import seaborn as sns\n",
    "import pandas as pd\n",
    "import numpy as np\n",
    "\n",
    "# Data Operations\n",
    "from sklearn.model_selection import train_test_split\n",
    "from category_encoders import OneHotEncoder\n",
    "from sklearn.pipeline import make_pipeline\n",
    "from sklearn.impute import SimpleImputer\n",
    "\n",
    "# Classification Models\n",
    "from sklearn.linear_model import LogisticRegression\n",
    "from sklearn.ensemble import RandomForestClassifier\n",
    "from sklearn.naive_bayes import GaussianNB\n",
    "from sklearn.svm import SVC\n",
    "# Metrics\n",
    "from sklearn.metrics import accuracy_score, precision_score, recall_score, f1_score\n",
    "\n",
    "import warnings\n",
    "warnings.filterwarnings(\"ignore\")\n"
   ],
   "id": "c4c418fadecee73",
   "outputs": [],
   "execution_count": null
  },
  {
   "metadata": {},
   "cell_type": "markdown",
   "source": "### Importing libraries",
   "id": "a1429d137a6d7296"
  },
  {
   "metadata": {},
   "cell_type": "markdown",
   "source": "### Import data",
   "id": "797b09733335b5a7"
  },
  {
   "metadata": {},
   "cell_type": "code",
   "source": "df = pd.read_csv(\"./data/train.csv\")",
   "id": "a9b7d003b7cde46a",
   "outputs": [],
   "execution_count": null
  },
  {
   "metadata": {},
   "cell_type": "markdown",
   "source": "### Data Understanding",
   "id": "3d151118c2d3b339"
  },
  {
   "metadata": {},
   "cell_type": "code",
   "source": "df.shape",
   "id": "7bee8c0151398bdb",
   "outputs": [],
   "execution_count": null
  },
  {
   "metadata": {},
   "cell_type": "code",
   "source": "df.info()",
   "id": "a553a4ca02ba594a",
   "outputs": [],
   "execution_count": null
  },
  {
   "metadata": {},
   "cell_type": "code",
   "source": "df.describe()",
   "id": "c116beca503611e9",
   "outputs": [],
   "execution_count": null
  },
  {
   "metadata": {},
   "cell_type": "code",
   "source": "df.sample(5)",
   "id": "f0449ed7e378cf4d",
   "outputs": [],
   "execution_count": null
  },
  {
   "metadata": {},
   "cell_type": "markdown",
   "source": "### Data Wrangling",
   "id": "de5dbf75206bb1b2"
  },
  {
   "metadata": {},
   "cell_type": "markdown",
   "source": "#### Missing Values",
   "id": "dce95f385ff0da90"
  },
  {
   "metadata": {},
   "cell_type": "code",
   "source": "df.isnull().sum()",
   "id": "8efe6a20196c4cc5",
   "outputs": [],
   "execution_count": null
  },
  {
   "metadata": {},
   "cell_type": "markdown",
   "source": "##### Understanding age to fill the most appropriate value",
   "id": "a452d536688970a5"
  },
  {
   "metadata": {},
   "cell_type": "code",
   "source": "df[df[\"age\"].isnull()]",
   "id": "274b054a9c731f2",
   "outputs": [],
   "execution_count": null
  },
  {
   "metadata": {},
   "cell_type": "code",
   "source": "df.groupby([\"who\"])[\"age\"].describe()",
   "id": "4af847e3946c63fb",
   "outputs": [],
   "execution_count": null
  },
  {
   "metadata": {},
   "cell_type": "code",
   "source": "df.age.median()",
   "id": "e30414a6236874a4",
   "outputs": [],
   "execution_count": null
  },
  {
   "metadata": {},
   "cell_type": "code",
   "source": "df[\"age\"].fillna(df.age.median(), inplace=True)",
   "id": "bdab4cfed7db4884",
   "outputs": [],
   "execution_count": null
  },
  {
   "metadata": {},
   "cell_type": "markdown",
   "source": "#### Outlier Detection and Removal",
   "id": "a59e9cad68b9126"
  },
  {
   "metadata": {},
   "cell_type": "markdown",
   "source": "##### Plots before removing outliers",
   "id": "ae1b6147decc90c1"
  },
  {
   "metadata": {},
   "cell_type": "code",
   "source": [
    "fig, axes = plt.subplots(1,3, figsize=(18,5))\n",
    "\n",
    "# Fare vs Age\n",
    "axes[0].scatter(df[\"age\"], df[\"fare\"])\n",
    "axes[0].set_title(\"Fare vs Age\")\n",
    "axes[0].set_xlabel(\"Age\")\n",
    "axes[0].set_ylabel(\"Fare\")\n",
    "\n",
    "# Fare Boxplot\n",
    "axes[1].boxplot(df[\"fare\"])\n",
    "axes[1].set_title(\"Fare\")\n",
    "\n",
    "# Age Boxplot\n",
    "axes[2].boxplot(df[\"age\"])\n",
    "axes[2].set_title(\"Age\")\n",
    "\n",
    "plt.show()"
   ],
   "id": "2575d69322310ce4",
   "outputs": [],
   "execution_count": null
  },
  {
   "metadata": {},
   "cell_type": "markdown",
   "source": "#### IQR Method (fare)",
   "id": "c33e56536b1d0f98"
  },
  {
   "metadata": {},
   "cell_type": "code",
   "source": [
    "q1 = df['fare'].quantile(0.25)\n",
    "q3 = df['fare'].quantile(0.75)\n",
    "iqr = q3 - q1\n",
    "\n",
    "low = q1 - 1.5 * iqr\n",
    "high = q3 + 1.5 * iqr\n",
    "\n",
    "df = df.loc[(df['fare'] > low) & (df['fare'] < high)].reset_index(drop=True)"
   ],
   "id": "ebf02b7eca7cf272",
   "outputs": [],
   "execution_count": null
  },
  {
   "metadata": {},
   "cell_type": "markdown",
   "source": "#### IQR Method (age)",
   "id": "db7b93948c1e774b"
  },
  {
   "metadata": {},
   "cell_type": "code",
   "source": [
    "q1 = df['age'].quantile(0.25)\n",
    "q3 = df['age'].quantile(0.75)\n",
    "iqr = q3 - q1\n",
    "\n",
    "low = q1 - 1.5 * iqr\n",
    "high = q3 + 1.5 * iqr\n",
    "\n",
    "df = df.loc[(df['age'] > low) & (df['age'] < high)].reset_index(drop=True)"
   ],
   "id": "424c0be5a4d024cc",
   "outputs": [],
   "execution_count": null
  },
  {
   "metadata": {},
   "cell_type": "markdown",
   "source": "##### Plots after removing outliers",
   "id": "6db302309974746a"
  },
  {
   "metadata": {},
   "cell_type": "code",
   "source": [
    "fig, axes = plt.subplots(1,3, figsize=(18,5))\n",
    "\n",
    "# Fare vs Age\n",
    "axes[0].scatter(df[\"age\"], df[\"fare\"])\n",
    "axes[0].set_title(\"Fare vs Age\")\n",
    "axes[0].set_xlabel(\"Age\")\n",
    "axes[0].set_ylabel(\"Fare\")\n",
    "\n",
    "# Fare Boxplot\n",
    "axes[1].boxplot(df[\"fare\"])\n",
    "axes[1].set_title(\"Fare\")\n",
    "\n",
    "# Age Boxplot\n",
    "axes[2].boxplot(df[\"age\"])\n",
    "axes[2].set_title(\"Age\")\n",
    "\n",
    "plt.show()\n"
   ],
   "id": "12c3d83428f6436e",
   "outputs": [],
   "execution_count": null
  },
  {
   "metadata": {},
   "cell_type": "markdown",
   "source": "#### Column Equivalence",
   "id": "4bf14bbc5f48fc45"
  },
  {
   "metadata": {},
   "cell_type": "code",
   "source": [
    "print(df[\"embarked\"].unique(), df[\"embark_town\"].unique())\n",
    "df[[\"embarked\", \"embark_town\"]].sample(5)"
   ],
   "id": "d247f624cb644cc4",
   "outputs": [],
   "execution_count": null
  },
  {
   "metadata": {},
   "cell_type": "code",
   "source": [
    "print(df[\"pclass\"].unique(), df[\"class\"].unique())\n",
    "df[[\"pclass\", \"class\"]].sample(5)"
   ],
   "id": "ce6ca305a6f81355",
   "outputs": [],
   "execution_count": null
  },
  {
   "metadata": {},
   "cell_type": "code",
   "source": [
    "print(df[\"sibsp\"].unique(), df[\"parch\"].unique())\n",
    "df[[\"sibsp\", \"parch\"]].sample(5)"
   ],
   "id": "1843bedcdc75237f",
   "outputs": [],
   "execution_count": null
  },
  {
   "metadata": {},
   "cell_type": "code",
   "source": [
    "print(df[\"survived\"].unique(), df[\"alive\"].unique())\n",
    "df[[\"survived\", \"alive\"]].sample(5)"
   ],
   "id": "b3090116a4ffd021",
   "outputs": [],
   "execution_count": null
  },
  {
   "metadata": {},
   "cell_type": "markdown",
   "source": "#### Drop Features\n",
   "id": "b5626c546812426e"
  },
  {
   "metadata": {},
   "cell_type": "code",
   "source": [
    "# Dropping alone and adult_male because we can get same information from parch and who respectively\n",
    "# deck contains high amount of missing values,\n",
    "# embarked == embark_town, pclass == class, alive == survived\n",
    "df.drop(columns = [\"alone\",\"deck\",\"embarked\", \"adult_male\", \"class\", \"alive\"], inplace=True)"
   ],
   "id": "c4b0ca4167f9e02",
   "outputs": [],
   "execution_count": null
  },
  {
   "metadata": {},
   "cell_type": "markdown",
   "source": "#### Converting data types",
   "id": "bd56c29906709056"
  },
  {
   "metadata": {},
   "cell_type": "code",
   "source": [
    "# category\n",
    "df[[\"embark_town\", \"sex\", \"who\"]] = df[[\"embark_town\", \"sex\", \"who\"]].astype(\"category\")\n",
    "\n",
    "# uint8\n",
    "df[[\"pclass\", \"sibsp\", \"age\", \"parch\", \"survived\"]] = df[[\"pclass\", \"sibsp\", \"age\", \"parch\", \"survived\"]].astype(\"uint8\")\n",
    "\n",
    "# unit16\n",
    "df[[\"fare\"]] = df[[\"fare\"]].astype(\"uint16\")"
   ],
   "id": "ce39688fad669659",
   "outputs": [],
   "execution_count": null
  },
  {
   "metadata": {},
   "cell_type": "markdown",
   "source": "### Exploratory Data Analysis",
   "id": "ddedce1458d5e4a6"
  },
  {
   "metadata": {},
   "cell_type": "markdown",
   "source": "#### Collinearity",
   "id": "6ea158d43be13f90"
  },
  {
   "metadata": {},
   "cell_type": "code",
   "source": [
    "corr = df.select_dtypes(\"number\").drop(columns=[\"survived\"]).corr()\n",
    "sns.heatmap(corr, annot=True)"
   ],
   "id": "3dcaa1a730236b4f",
   "outputs": [],
   "execution_count": null
  },
  {
   "metadata": {},
   "cell_type": "code",
   "source": "df.info()",
   "id": "f6a5553395e7728b",
   "outputs": [],
   "execution_count": null
  },
  {
   "metadata": {},
   "cell_type": "markdown",
   "source": "#### Data visualization",
   "id": "758ab95a2971cfc3"
  },
  {
   "metadata": {},
   "cell_type": "markdown",
   "source": "##### Survivors by Passenger Type",
   "id": "405070022ee66bd6"
  },
  {
   "metadata": {},
   "cell_type": "code",
   "source": [
    "survivors_count = df[df[\"survived\"] == True].groupby(\"who\")[\"survived\"].count()\n",
    "non_survivors_count = df[df[\"survived\"] == False].groupby(\"who\")[\"survived\"].count()\n",
    "\n",
    "combined_counts = pd.DataFrame({\n",
    "    \"Survivors\": survivors_count,\n",
    "    \"Non-Survivors\": non_survivors_count\n",
    "})\n",
    "\n",
    "combined_counts.plot(kind='bar')\n",
    "plt.title(\"Survivors and Non-Survivors by Passenger Type\")\n",
    "plt.xlabel(\"Passenger Type\")\n",
    "plt.ylabel(\"Count\")\n",
    "plt.xticks(rotation=0)\n",
    "plt.show()\n",
    "print(combined_counts)"
   ],
   "id": "7d1da885c57ea61f",
   "outputs": [],
   "execution_count": null
  },
  {
   "metadata": {},
   "cell_type": "markdown",
   "source": "##### Survivors & Non-Survivor by Embark Town\n",
   "id": "bf58158da0dbdb02"
  },
  {
   "metadata": {},
   "cell_type": "code",
   "source": [
    "total_count = df[\"embark_town\"].value_counts()\n",
    "survived_count = df[df[\"survived\"] == 1][\"embark_town\"].value_counts()\n",
    "non_survivors_count = df[df[\"survived\"] == 0][\"embark_town\"].value_counts()\n",
    "\n",
    "fig, axes = plt.subplots(1, 3, figsize=(18, 5))\n",
    "\n",
    "# Plot total distribution\n",
    "total_count.plot(kind=\"bar\", ax=axes[0], color=\"skyblue\", title=\"Embark Town Distribution\")\n",
    "axes[0].set_xlabel(\"Embark Town\")\n",
    "axes[0].set_ylabel(\"Count\")\n",
    "axes[0].set_xticks(range(len(total_count.index)))\n",
    "axes[0].set_xticklabels(total_count.index, rotation=0)\n",
    "\n",
    "# Plot survivors distribution\n",
    "survived_count.plot(kind=\"bar\", ax=axes[1], color=\"green\", title=\"Survivors from Embark Town\")\n",
    "axes[1].set_xlabel(\"Embark Town\")\n",
    "axes[1].set_ylabel(\"Count\")\n",
    "axes[1].set_xticks(range(len(total_count.index)))\n",
    "axes[1].set_xticklabels(total_count.index, rotation=0)\n",
    "\n",
    "# Plot non-survivors distribution\n",
    "non_survivors_count.plot(kind=\"bar\", ax=axes[2], color=\"red\", title=\"Non-Survivors from Embark Town\")\n",
    "axes[2].set_xlabel(\"Embark Town\")\n",
    "axes[2].set_ylabel(\"Count\")\n",
    "axes[2].set_xticks(range(len(total_count.index)))\n",
    "axes[2].set_xticklabels(total_count.index, rotation=0)\n",
    "\n",
    "plt.show()"
   ],
   "id": "39323b7c98b9a749",
   "outputs": [],
   "execution_count": null
  },
  {
   "metadata": {},
   "cell_type": "markdown",
   "source": "### Feature Engineering",
   "id": "603c2bc0612abf54"
  },
  {
   "metadata": {},
   "cell_type": "markdown",
   "source": "#### Family Size",
   "id": "475112efdc2f8264"
  },
  {
   "metadata": {},
   "cell_type": "code",
   "source": [
    "df[\"family_size\"] = df[\"sibsp\"] + df[\"parch\"] + 1\n",
    "plt.hist(df[\"family_size\"])\n",
    "plt.xlabel(\"Family Size\")\n",
    "plt.ylim(0, 500)\n",
    "plt.ylabel(\"Count\")\n",
    "plt.title(\"Family Size Distribution\")\n",
    "plt.show()"
   ],
   "id": "72d951481d94c6b6",
   "outputs": [],
   "execution_count": null
  },
  {
   "metadata": {},
   "cell_type": "markdown",
   "source": "### Predictive Modeling",
   "id": "b70bc5409a918860"
  },
  {
   "metadata": {},
   "cell_type": "markdown",
   "source": "#### Features & Target Selection",
   "id": "1f8045be9b96b08c"
  },
  {
   "metadata": {},
   "cell_type": "code",
   "source": "features = df[[\"age\", \"pclass\", \"fare\", \"sex\", \"who\", \"embark_town\", \"family_size\"]]",
   "id": "11bf8267e14cf3ca",
   "outputs": [],
   "execution_count": null
  },
  {
   "metadata": {},
   "cell_type": "code",
   "source": "target = df[\"survived\"]",
   "id": "61d6890cd664fb60",
   "outputs": [],
   "execution_count": null
  },
  {
   "metadata": {},
   "cell_type": "markdown",
   "source": "#### Model Selection",
   "id": "f5457cc249b22dfa"
  },
  {
   "metadata": {},
   "cell_type": "code",
   "source": [
    "models = {\n",
    "    \"Logistic Regression\": make_pipeline(OneHotEncoder(), SimpleImputer(), LogisticRegression()),\n",
    "    \"Random Forest\": make_pipeline(OneHotEncoder(), SimpleImputer(), RandomForestClassifier()),\n",
    "    \"Support Vector Machine\": make_pipeline(OneHotEncoder(), SimpleImputer(), SVC(kernel=\"linear\")),\n",
    "    \"Naive Bayes\": make_pipeline(OneHotEncoder(), SimpleImputer(), GaussianNB()),\n",
    "}"
   ],
   "id": "7350571cb031caa",
   "outputs": [],
   "execution_count": null
  },
  {
   "metadata": {},
   "cell_type": "markdown",
   "source": "#### Train & Test data splitting",
   "id": "8c6419a0b15a6ba6"
  },
  {
   "metadata": {},
   "cell_type": "code",
   "source": "X_train, X_test, y_train, y_test = train_test_split(features, target, test_size=0.20, random_state=42)",
   "id": "11265f4d639bfc5f",
   "outputs": [],
   "execution_count": null
  },
  {
   "metadata": {},
   "cell_type": "markdown",
   "source": "#### Training/Testing and Result",
   "id": "b805a0e7cea98508"
  },
  {
   "metadata": {},
   "cell_type": "code",
   "source": [
    "results = {}\n",
    "for name, model in models.items():\n",
    "    model.fit(X_train, y_train)\n",
    "    y_pred = model.predict(X_test)\n",
    "    accuracy = accuracy_score(y_test, y_pred)\n",
    "    precision = precision_score(y_test, y_pred, average=\"macro\")\n",
    "    recall = recall_score(y_test, y_pred, average=\"macro\")\n",
    "    f1 = f1_score(y_test, y_pred, average=\"macro\")\n",
    "    results[name] = {\n",
    "        \"Accuracy\": accuracy,\n",
    "        \"Precision\": precision,\n",
    "        \"Recall\": recall,\n",
    "        \"F1\": f1\n",
    "    }"
   ],
   "id": "9e94c4f1e1c66855",
   "outputs": [],
   "execution_count": null
  },
  {
   "metadata": {},
   "cell_type": "markdown",
   "source": "#### Model Metrics",
   "id": "c3fb515ce1f37138"
  },
  {
   "metadata": {},
   "cell_type": "code",
   "source": [
    "for name, metrics in results.items():\n",
    "    print(f\"{name}:\")\n",
    "    print(f\"  Accuracy = {metrics['Accuracy'] * 100:.2f}%\")\n",
    "    print(f\"  Precision = {metrics['Precision'] * 100:.2f}%\")\n",
    "    print(f\"  Recall = {metrics['Recall'] * 100:.2f}%\")\n",
    "    print(f\"  F1 Score = {metrics['F1'] * 100:.2f}%\")\n"
   ],
   "id": "fc765b95e3f4430e",
   "outputs": [],
   "execution_count": null
  },
  {
   "metadata": {},
   "cell_type": "markdown",
   "source": "#### Comparing model accuracy",
   "id": "ac9f3681e4a0dff9"
  },
  {
   "metadata": {},
   "cell_type": "code",
   "source": [
    "model_names = list(results.keys())\n",
    "accuracies = [metrics[\"Accuracy\"] for metrics in results.values()]\n",
    "precisions = [metrics[\"Precision\"] for metrics in results.values()]\n",
    "recalls = [metrics[\"Recall\"] for metrics in results.values()]\n",
    "f1_scores = [metrics[\"F1\"] for metrics in results.values()]\n",
    "\n",
    "fig, axes = plt.subplots(2, 2, figsize=(12, 8))\n",
    "\n",
    "# Plot accuracy\n",
    "axes[0, 0].bar(model_names, accuracies, width=0.5, align=\"center\")\n",
    "axes[0, 0].set_title(\"Accuracy Comparison\")\n",
    "axes[0, 0].set_ylabel(\"Accuracy\")\n",
    "axes[0, 0].set_ylim(0, 1)\n",
    "axes[0, 0].tick_params(axis=\"x\", labelrotation=45)\n",
    "\n",
    "# Plot precision\n",
    "axes[0, 1].bar(model_names, precisions, width=0.5, align=\"center\")\n",
    "axes[0, 1].set_title(\"Precision\")\n",
    "axes[0, 1].set_ylabel(\"Precision\")\n",
    "axes[0, 1].set_ylim(0, 1)\n",
    "axes[0, 1].tick_params(axis=\"x\", labelrotation=45)\n",
    "\n",
    "# Plot recall\n",
    "axes[1, 0].bar(model_names, recalls, width=0.5, align=\"center\")\n",
    "axes[1, 0].set_title(\"Recall\")\n",
    "axes[1, 0].set_ylabel(\"Recall\")\n",
    "axes[1, 0].set_ylim(0, 1)\n",
    "axes[1, 0].tick_params(axis=\"x\", labelrotation=45)\n",
    "\n",
    "# Plot F1 score\n",
    "axes[1, 1].bar(model_names, f1_scores, width=0.5, align=\"center\")\n",
    "axes[1, 1].set_title(\"F1 Score\")\n",
    "axes[1, 1].set_ylabel(\"F1 Score\")\n",
    "axes[1, 1].set_ylim(0, 1)\n",
    "axes[1, 1].tick_params(axis=\"x\", labelrotation=45)\n",
    "\n",
    "plt.tight_layout()\n",
    "plt.show()\n"
   ],
   "id": "a74419624792fed4",
   "outputs": [],
   "execution_count": null
  },
  {
   "metadata": {},
   "cell_type": "code",
   "source": "",
   "id": "b961e02ec2457602",
   "outputs": [],
   "execution_count": null
  }
 ],
 "metadata": {
  "kernelspec": {
   "display_name": "Python 3",
   "language": "python",
   "name": "python3"
  },
  "language_info": {
   "codemirror_mode": {
    "name": "ipython",
    "version": 3
   },
   "file_extension": ".py",
   "mimetype": "text/x-python",
   "name": "python",
   "nbconvert_exporter": "python",
   "pygments_lexer": "ipython3",
   "version": "3.11.9"
  }
 },
 "nbformat": 4,
 "nbformat_minor": 5
}
